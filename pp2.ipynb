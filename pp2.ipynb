{
 "cells": [
  {
   "cell_type": "code",
   "execution_count": 1,
   "id": "4e8d00cc",
   "metadata": {},
   "outputs": [
    {
     "name": "stdout",
     "output_type": "stream",
     "text": [
      "12\n"
     ]
    }
   ],
   "source": [
    "#meow\n",
    "print(12)"
   ]
  },
  {
   "cell_type": "code",
   "execution_count": 7,
   "id": "2a74942e",
   "metadata": {},
   "outputs": [
    {
     "name": "stdout",
     "output_type": "stream",
     "text": [
      "12\n"
     ]
    }
   ],
   "source": [
    "#meow\n",
    "\"fh\" # or \"\"\"three qutations\"\"\"\n",
    "print(12)"
   ]
  },
  {
   "cell_type": "code",
   "execution_count": 8,
   "id": "b7a8502a",
   "metadata": {},
   "outputs": [
    {
     "name": "stdout",
     "output_type": "stream",
     "text": [
      "12\n"
     ]
    }
   ],
   "source": [
    "x = 12 #normal print\n",
    "print(x)"
   ]
  },
  {
   "cell_type": "code",
   "execution_count": 13,
   "id": "ba216f51",
   "metadata": {},
   "outputs": [
    {
     "name": "stdout",
     "output_type": "stream",
     "text": [
      "d\n"
     ]
    }
   ],
   "source": [
    "x = 12 #print single value with double value using same variable such as x\n",
    "x = \"d\"\n",
    "print(x) #last one will be printed"
   ]
  },
  {
   "cell_type": "code",
   "execution_count": 16,
   "id": "fd1eb5b3",
   "metadata": {},
   "outputs": [
    {
     "name": "stdout",
     "output_type": "stream",
     "text": [
      "3 3 3.0\n"
     ]
    }
   ],
   "source": [
    "x = int(3) #spacifing data type by declaretion which is called casting\n",
    "y = str(3)\n",
    "z = float(3)\n",
    "print(x,y,z)"
   ]
  },
  {
   "cell_type": "code",
   "execution_count": 21,
   "id": "f78f22cb",
   "metadata": {},
   "outputs": [
    {
     "name": "stdout",
     "output_type": "stream",
     "text": [
      "<class 'str'>\n",
      "<class 'int'>\n",
      "<class 'float'>\n"
     ]
    }
   ],
   "source": [
    "c = \"sddf\"   #declaring type using type() function it will give the name of type of the values but will not show the value\n",
    "g = 534\n",
    "y = 4.77\n",
    "print(type(c))\n",
    "print(type(g))\n",
    "print(type(y))"
   ]
  },
  {
   "cell_type": "code",
   "execution_count": 22,
   "id": "87f63392",
   "metadata": {},
   "outputs": [
    {
     "name": "stdout",
     "output_type": "stream",
     "text": [
      "gj tf\n"
     ]
    }
   ],
   "source": [
    "t = 'gj' #we can use both single or double quatations\n",
    "y = \"tf\"\n",
    "print(t,y)"
   ]
  },
  {
   "cell_type": "code",
   "execution_count": 23,
   "id": "b7ba0d8a",
   "metadata": {},
   "outputs": [
    {
     "name": "stdout",
     "output_type": "stream",
     "text": [
      "rddgf 12\n"
     ]
    }
   ],
   "source": [
    "a = \"rddgf\" #python is not case sensetive. we can use both upper and lower case letters\n",
    "A = 12\n",
    "print(a, A)"
   ]
  },
  {
   "cell_type": "code",
   "execution_count": 1,
   "id": "af97cf96",
   "metadata": {},
   "outputs": [
    {
     "name": "stdout",
     "output_type": "stream",
     "text": [
      "Prethy Rafi Abany\n"
     ]
    }
   ],
   "source": [
    "x , y , z = \"Prethy\" , \"Rafi\", \"Abany\"       #printing all in one\n",
    "print(x,y,z)"
   ]
  },
  {
   "cell_type": "code",
   "execution_count": 2,
   "id": "8a069092",
   "metadata": {},
   "outputs": [
    {
     "name": "stdout",
     "output_type": "stream",
     "text": [
      "Prethy\n",
      "Rafi\n",
      "Abany\n"
     ]
    }
   ],
   "source": [
    "x , y , z = \"Prethy\" , \"Rafi\", \"Abany\"         #.......\n",
    "print(x)\n",
    "print(y)\n",
    "print(z)"
   ]
  },
  {
   "cell_type": "code",
   "execution_count": 2,
   "id": "1b64fa90",
   "metadata": {},
   "outputs": [
    {
     "name": "stdout",
     "output_type": "stream",
     "text": [
      "prethy\n",
      "prethy\n"
     ]
    }
   ],
   "source": [
    "x = y = \"prethy\"         #defineing same value in multiple variable  \n",
    "print(x)\n",
    "print(y)"
   ]
  },
  {
   "cell_type": "code",
   "execution_count": 5,
   "id": "5f682fbc",
   "metadata": {},
   "outputs": [
    {
     "name": "stdout",
     "output_type": "stream",
     "text": [
      "Prethy\n",
      "Rafi\n",
      "Abany\n"
     ]
    }
   ],
   "source": [
    "Siblings_names = [\"Prethy\", \"Rafi\", \"Abany\"]            #this is calleed unpacked collections\n",
    "x , y, z = Siblings_names\n",
    "print(x)\n",
    "print(y)\n",
    "print(z)"
   ]
  },
  {
   "cell_type": "code",
   "execution_count": 3,
   "id": "b4a17518",
   "metadata": {},
   "outputs": [
    {
     "name": "stdout",
     "output_type": "stream",
     "text": [
      "why this life?\n"
     ]
    }
   ],
   "source": [
    "x = \"why \"\n",
    "y = \"this \"\n",
    "z = \"life?\"\n",
    "print(x + y + z)"
   ]
  },
  {
   "cell_type": "code",
   "execution_count": 6,
   "id": "968b72d0",
   "metadata": {},
   "outputs": [
    {
     "name": "stdout",
     "output_type": "stream",
     "text": [
      "22 Moew\n",
      "25\n"
     ]
    }
   ],
   "source": [
    "x = 22\n",
    "p = 3\n",
    "y = \"Moew\"\n",
    "print(x, y)\n",
    "#print( x +y) #will show type errors\n",
    "print(x + p)"
   ]
  },
  {
   "cell_type": "code",
   "execution_count": 9,
   "id": "5b530147",
   "metadata": {},
   "outputs": [
    {
     "name": "stdout",
     "output_type": "stream",
     "text": [
      "why  alu\n"
     ]
    }
   ],
   "source": [
    "def func():       #creating function\n",
    "    x = \"alu\"\n",
    "    print(\"why \", x)\n",
    "func()"
   ]
  },
  {
   "cell_type": "code",
   "execution_count": 11,
   "id": "1a7dc76b",
   "metadata": {},
   "outputs": [
    {
     "name": "stdout",
     "output_type": "stream",
     "text": [
      "jh bbc\n"
     ]
    }
   ],
   "source": [
    "x = \"bbc\"        #using variable outside the function\n",
    "def func():\n",
    "    print(\"jh\", x)\n",
    "func()"
   ]
  },
  {
   "cell_type": "code",
   "execution_count": 14,
   "id": "81605509",
   "metadata": {},
   "outputs": [
    {
     "name": "stdout",
     "output_type": "stream",
     "text": [
      "Why  confused\n",
      "Again pitu\n"
     ]
    }
   ],
   "source": [
    "x = \"pitu\"\n",
    "def lol():\n",
    "    x = \"confused\"\n",
    "    print(\"Why \",x)\n",
    "lol()\n",
    "print(\"Again\", x)"
   ]
  },
  {
   "cell_type": "code",
   "execution_count": 21,
   "id": "b1f9cad1",
   "metadata": {},
   "outputs": [
    {
     "name": "stdout",
     "output_type": "stream",
     "text": [
      "Python:  ab\n"
     ]
    }
   ],
   "source": [
    "# def myfunc(): global x x = \"fantastic\" myfunc() print(\"Python is \" + x)\n",
    "\n",
    "x = \"ab\"\n",
    "def func():\n",
    "    global x\n",
    "func()\n",
    "print(\"Python: \", x)"
   ]
  },
  {
   "cell_type": "code",
   "execution_count": 22,
   "id": "bb5607a7",
   "metadata": {},
   "outputs": [
    {
     "name": "stdout",
     "output_type": "stream",
     "text": [
      "ff  py\n"
     ]
    }
   ],
   "source": [
    "def func():\n",
    "    global x\n",
    "    x = \" py\"\n",
    "func()\n",
    "\n",
    "print(\"ff\", x)"
   ]
  },
  {
   "cell_type": "code",
   "execution_count": 23,
   "id": "0dd4a8ff",
   "metadata": {},
   "outputs": [
    {
     "name": "stdout",
     "output_type": "stream",
     "text": [
      "Volvo\n"
     ]
    }
   ],
   "source": [
    "def carname():\n",
    "    x = \"Volvo\"\n",
    "    print(x)\n",
    "carname()"
   ]
  },
  {
   "cell_type": "code",
   "execution_count": 24,
   "id": "b7f69fc3",
   "metadata": {},
   "outputs": [
    {
     "name": "stdout",
     "output_type": "stream",
     "text": [
      "Volvo\n"
     ]
    }
   ],
   "source": [
    "carname = \"Volvo\"\n",
    "print(carname)"
   ]
  },
  {
   "cell_type": "code",
   "execution_count": 35,
   "id": "68d72347",
   "metadata": {},
   "outputs": [
    {
     "name": "stdout",
     "output_type": "stream",
     "text": [
      "<memory at 0x0000028A9B4D6C40>\n"
     ]
    }
   ],
   "source": [
    "x = memoryview(bytes(0))\n",
    "print(x)"
   ]
  },
  {
   "cell_type": "code",
   "execution_count": 38,
   "id": "9fc806d8",
   "metadata": {},
   "outputs": [
    {
     "name": "stdout",
     "output_type": "stream",
     "text": [
      "None\n"
     ]
    }
   ],
   "source": [
    "x = None\n",
    "print(x)"
   ]
  },
  {
   "cell_type": "code",
   "execution_count": 39,
   "id": "6f4f4a09",
   "metadata": {},
   "outputs": [
    {
     "name": "stdout",
     "output_type": "stream",
     "text": [
      "range(0, 6)\n"
     ]
    }
   ],
   "source": [
    "x = range(6)\n",
    "print(x)"
   ]
  },
  {
   "cell_type": "code",
   "execution_count": 47,
   "id": "d8fe4483",
   "metadata": {},
   "outputs": [
    {
     "name": "stdout",
     "output_type": "stream",
     "text": [
      "<class 'dict'>\n"
     ]
    }
   ],
   "source": [
    "x = {'name' : \"prethy\", \"age\" : 20}\n",
    "print(type(x))"
   ]
  },
  {
   "cell_type": "code",
   "execution_count": 50,
   "id": "4bba8649",
   "metadata": {},
   "outputs": [
    {
     "name": "stdout",
     "output_type": "stream",
     "text": [
      "<class 'set'>\n"
     ]
    }
   ],
   "source": [
    "x =({\"apple\", \"banana\", \"cherry\"}) \n",
    "print(type(x))"
   ]
  },
  {
   "cell_type": "code",
   "execution_count": 51,
   "id": "08c70102",
   "metadata": {},
   "outputs": [
    {
     "name": "stdout",
     "output_type": "stream",
     "text": [
      "{'name': 'Prethy', 'age': 21}\n"
     ]
    }
   ],
   "source": [
    "x = dict( name = \"Prethy\", age = 21)\n",
    "print(x)"
   ]
  },
  {
   "cell_type": "code",
   "execution_count": 52,
   "id": "69c5f95a",
   "metadata": {},
   "outputs": [
    {
     "name": "stdout",
     "output_type": "stream",
     "text": [
      "True\n"
     ]
    }
   ],
   "source": [
    "x = bool(5)\n",
    "print(x)"
   ]
  },
  {
   "cell_type": "code",
   "execution_count": 53,
   "id": "793d6abc",
   "metadata": {},
   "outputs": [
    {
     "name": "stdout",
     "output_type": "stream",
     "text": [
      "<class 'int'>\n",
      "<class 'int'>\n",
      "<class 'int'>\n"
     ]
    }
   ],
   "source": [
    "x = 1\n",
    "y = 35656222554887711\n",
    "z = -3255522\n",
    "print(type(x))\n",
    "print(type(y))\n",
    "print(type(z))\n"
   ]
  },
  {
   "cell_type": "code",
   "execution_count": 65,
   "id": "849f7fc6",
   "metadata": {},
   "outputs": [
    {
     "name": "stdout",
     "output_type": "stream",
     "text": [
      "1.25\n",
      "(1.25+0j)\n",
      "<class 'float'>\n"
     ]
    }
   ],
   "source": [
    "x = 1.25\n",
    "y = \"edge\"\n",
    "z = complex(x)\n",
    "\n",
    "print(float(x))\n",
    "print(z)\n",
    "print(type(x))\n"
   ]
  },
  {
   "cell_type": "code",
   "execution_count": 73,
   "id": "5ef6a601",
   "metadata": {},
   "outputs": [
    {
     "name": "stdout",
     "output_type": "stream",
     "text": [
      "4\n"
     ]
    }
   ],
   "source": [
    "import random\n",
    "print(random.randrange(1, 20))"
   ]
  },
  {
   "cell_type": "code",
   "execution_count": 81,
   "id": "20ae6eb1",
   "metadata": {},
   "outputs": [
    {
     "name": "stdout",
     "output_type": "stream",
     "text": [
      "2 2.4 9.0\n"
     ]
    }
   ],
   "source": [
    "x = int(2)\n",
    "y = str(2.4)\n",
    "z = float(\"9\")\n",
    "print(x, y, z)"
   ]
  },
  {
   "cell_type": "code",
   "execution_count": 85,
   "id": "7aec95d1",
   "metadata": {},
   "outputs": [
    {
     "name": "stdout",
     "output_type": "stream",
     "text": [
      "hdkahsdhshk     \n",
      "jahsdkdkahk\n",
      "adshjadk\n"
     ]
    }
   ],
   "source": [
    "a = \"\"\"hdkahsdhshk     \n",
    "jahsdkdkahk\n",
    "adshjadk\"\"\"\n",
    "print(a)        #for multiline"
   ]
  },
  {
   "cell_type": "code",
   "execution_count": 93,
   "id": "3dffefef",
   "metadata": {},
   "outputs": [
    {
     "name": "stdout",
     "output_type": "stream",
     "text": [
      "l\n"
     ]
    }
   ],
   "source": [
    "a = \"hello\"\n",
    "print(a[3])"
   ]
  },
  {
   "cell_type": "code",
   "execution_count": 94,
   "id": "1e44ca16",
   "metadata": {},
   "outputs": [
    {
     "name": "stdout",
     "output_type": "stream",
     "text": [
      "l\n",
      "u\n",
      "c\n",
      "k\n"
     ]
    }
   ],
   "source": [
    "for x in \"luck\":\n",
    "    print(x)"
   ]
  },
  {
   "cell_type": "code",
   "execution_count": 96,
   "id": "ea52ca5f",
   "metadata": {},
   "outputs": [
    {
     "name": "stdout",
     "output_type": "stream",
     "text": [
      "15\n"
     ]
    }
   ],
   "source": [
    "x = \"hello meow meow\"\n",
    "print(len(x))"
   ]
  },
  {
   "cell_type": "code",
   "execution_count": 98,
   "id": "3e9b653b",
   "metadata": {},
   "outputs": [
    {
     "name": "stdout",
     "output_type": "stream",
     "text": [
      "True\n",
      "False\n"
     ]
    }
   ],
   "source": [
    "text = \"my name is prethy. I'm confused while wrighting thing\"\n",
    "print(\"confused\" in text)\n",
    "print(\"ali\" in text)"
   ]
  },
  {
   "cell_type": "code",
   "execution_count": 99,
   "id": "2acb3db0",
   "metadata": {},
   "outputs": [
    {
     "name": "stdout",
     "output_type": "stream",
     "text": [
      "i should practice\n"
     ]
    }
   ],
   "source": [
    "txt = \"totally confused\"\n",
    "if \"totally\" in txt:\n",
    "    print(\"i should practice\")"
   ]
  },
  {
   "cell_type": "code",
   "execution_count": 107,
   "id": "3b17e081",
   "metadata": {},
   "outputs": [
    {
     "name": "stdout",
     "output_type": "stream",
     "text": [
      "False\n"
     ]
    }
   ],
   "source": [
    "x = \" so this is it\"\n",
    "print(\"so\" not in x)"
   ]
  },
  {
   "cell_type": "code",
   "execution_count": 116,
   "id": "5bd9ee90",
   "metadata": {},
   "outputs": [
    {
     "name": "stdout",
     "output_type": "stream",
     "text": [
      "Stupid\n"
     ]
    }
   ],
   "source": [
    "txt = \"totally confused\"\n",
    "if \"totally\"not in txt:\n",
    "    print(\"i should practice\")\n",
    "else:\n",
    "    print(\"Stupid\")"
   ]
  },
  {
   "cell_type": "code",
   "execution_count": 123,
   "id": "e56b0829",
   "metadata": {},
   "outputs": [
    {
     "name": "stdout",
     "output_type": "stream",
     "text": [
      "hello\n"
     ]
    }
   ],
   "source": [
    "a = \"hello\"        \n",
    "print(a[0 : 5])"
   ]
  },
  {
   "cell_type": "code",
   "execution_count": 128,
   "id": "0366017a",
   "metadata": {},
   "outputs": [
    {
     "name": "stdout",
     "output_type": "stream",
     "text": [
      "hellop\n",
      "loprethy\n",
      "eth\n"
     ]
    }
   ],
   "source": [
    "b = \"helloprethy\"\n",
    "print(b[:6])\n",
    "print(b[3:])\n",
    "print(b[-4 : -1])"
   ]
  },
  {
   "cell_type": "code",
   "execution_count": 129,
   "id": "208aaf2a",
   "metadata": {},
   "outputs": [
    {
     "name": "stdout",
     "output_type": "stream",
     "text": [
      "HELLO WORLD\n"
     ]
    }
   ],
   "source": [
    "x = \"Hello World\"\n",
    "print(x.upper())"
   ]
  },
  {
   "cell_type": "code",
   "execution_count": 130,
   "id": "77d4672b",
   "metadata": {},
   "outputs": [
    {
     "name": "stdout",
     "output_type": "stream",
     "text": [
      "hello world\n"
     ]
    }
   ],
   "source": [
    "x = \"Hello World\"\n",
    "print(x.lower())"
   ]
  },
  {
   "cell_type": "code",
   "execution_count": 133,
   "id": "43ebfc75",
   "metadata": {},
   "outputs": [
    {
     "name": "stdout",
     "output_type": "stream",
     "text": [
      "Hello World\n"
     ]
    }
   ],
   "source": [
    "x = \"           Hello World  \"    #removes spaces\n",
    "print(x.strip())"
   ]
  },
  {
   "cell_type": "code",
   "execution_count": 134,
   "id": "7d47a899",
   "metadata": {},
   "outputs": [
    {
     "name": "stdout",
     "output_type": "stream",
     "text": [
      "Hells Wsrld\n"
     ]
    }
   ],
   "source": [
    "x = \"Hello World\"      #replace words\n",
    "print(x.replace(\"o\", \"s\"))"
   ]
  },
  {
   "cell_type": "code",
   "execution_count": 137,
   "id": "217b767e",
   "metadata": {},
   "outputs": [
    {
     "name": "stdout",
     "output_type": "stream",
     "text": [
      "['Hello', 'World']\n"
     ]
    }
   ],
   "source": [
    "x = \"Hello World\"   #makes list\n",
    "print(x.split())"
   ]
  },
  {
   "cell_type": "code",
   "execution_count": 140,
   "id": "d01cc041",
   "metadata": {},
   "outputs": [
    {
     "name": "stdout",
     "output_type": "stream",
     "text": [
      "nono\n"
     ]
    }
   ],
   "source": [
    "a = \"no\"\n",
    "b = \"no\"\n",
    "c = a + b\n",
    "print(c)"
   ]
  },
  {
   "cell_type": "code",
   "execution_count": 141,
   "id": "eb2c9225",
   "metadata": {},
   "outputs": [
    {
     "name": "stdout",
     "output_type": "stream",
     "text": [
      "no no\n"
     ]
    }
   ],
   "source": [
    "a = \"no\"\n",
    "b = \"no\"\n",
    "c = a + \" \" + b\n",
    "print(c)"
   ]
  },
  {
   "cell_type": "code",
   "execution_count": 6,
   "id": "04b70f5b",
   "metadata": {},
   "outputs": [
    {
     "name": "stdout",
     "output_type": "stream",
     "text": [
      "my name is x. my age is 15\n"
     ]
    }
   ],
   "source": [
    "age = \"15\"\n",
    "txt = \"my name is x. my age is \" + age\n",
    "print(txt)"
   ]
  },
  {
   "cell_type": "code",
   "execution_count": 7,
   "id": "caa4a706",
   "metadata": {},
   "outputs": [
    {
     "name": "stdout",
     "output_type": "stream",
     "text": [
      "my name is x. my age is 15\n"
     ]
    }
   ],
   "source": [
    "age = \"15\"\n",
    "txt = \"my name is x. my age is {}\" \n",
    "print(txt.format(age))"
   ]
  },
  {
   "cell_type": "code",
   "execution_count": 12,
   "id": "5b533e26",
   "metadata": {},
   "outputs": [
    {
     "name": "stdout",
     "output_type": "stream",
     "text": [
      " i want 321 at abc in quantity of 33\n"
     ]
    }
   ],
   "source": [
    "name = \"abc\"\n",
    "price = 321\n",
    "quantity = 33\n",
    "order = \" i want {} at {} in quantity of {}\"\n",
    "print(order.format(price, name, quantity))\n"
   ]
  },
  {
   "cell_type": "code",
   "execution_count": 23,
   "id": "831d7cdb",
   "metadata": {},
   "outputs": [
    {
     "name": "stdout",
     "output_type": "stream",
     "text": [
      "how is \r",
      " day\n"
     ]
    }
   ],
   "source": [
    "text = \"how is \\r day\"\n",
    "print(text)"
   ]
  },
  {
   "cell_type": "code",
   "execution_count": 34,
   "id": "efcd90b2",
   "metadata": {},
   "outputs": [
    {
     "name": "stdout",
     "output_type": "stream",
     "text": [
      "Tt Hh\n"
     ]
    }
   ],
   "source": [
    "o = \"tt hh\"\n",
    "print(o.title())\n",
    "#print(o.count())"
   ]
  },
  {
   "cell_type": "code",
   "execution_count": 36,
   "id": "34d10305",
   "metadata": {},
   "outputs": [
    {
     "name": "stdout",
     "output_type": "stream",
     "text": [
      "11\n"
     ]
    }
   ],
   "source": [
    "x = \"hello world\"\n",
    "print(len(x))"
   ]
  },
  {
   "cell_type": "code",
   "execution_count": 38,
   "id": "ae38593c",
   "metadata": {},
   "outputs": [
    {
     "name": "stdout",
     "output_type": "stream",
     "text": [
      "True\n",
      "False\n"
     ]
    }
   ],
   "source": [
    "print(10>9)\n",
    "print(10==8)"
   ]
  },
  {
   "cell_type": "code",
   "execution_count": 39,
   "id": "49efb4d7",
   "metadata": {},
   "outputs": [
    {
     "name": "stdout",
     "output_type": "stream",
     "text": [
      "hghf\n"
     ]
    }
   ],
   "source": [
    "a = 46\n",
    "b = 76\n",
    "if a > b:\n",
    "    print(\"right\")\n",
    "else:\n",
    "    print(\"hghf\")"
   ]
  },
  {
   "cell_type": "code",
   "execution_count": 43,
   "id": "a5c95ff0",
   "metadata": {},
   "outputs": [
    {
     "name": "stdout",
     "output_type": "stream",
     "text": [
      "True\n",
      "False\n",
      "False\n",
      "False\n"
     ]
    }
   ],
   "source": [
    "print(bool(\"lll\"))\n",
    "print(bool(0))\n",
    "print(bool(False))\n",
    "print(bool(\"\"))"
   ]
  },
  {
   "cell_type": "code",
   "execution_count": null,
   "id": "19d8d807",
   "metadata": {},
   "outputs": [],
   "source": []
  }
 ],
 "metadata": {
  "kernelspec": {
   "display_name": "Python 3 (ipykernel)",
   "language": "python",
   "name": "python3"
  },
  "language_info": {
   "codemirror_mode": {
    "name": "ipython",
    "version": 3
   },
   "file_extension": ".py",
   "mimetype": "text/x-python",
   "name": "python",
   "nbconvert_exporter": "python",
   "pygments_lexer": "ipython3",
   "version": "3.9.12"
  }
 },
 "nbformat": 4,
 "nbformat_minor": 5
}
