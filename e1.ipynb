{
 "cells": [
  {
   "cell_type": "code",
   "execution_count": null,
   "id": "7fc1ecb5",
   "metadata": {},
   "outputs": [],
   "source": [
    "x = int(input())\n",
    "i = 0\n",
    "while i <= x:\n",
    "    j = 1\n",
    "    while j <= i:\n",
    "        print(\"*\" , end =\"  \")\n",
    "        j  += 1\n",
    "    print()\n",
    "    i += 1"
   ]
  },
  {
   "cell_type": "code",
   "execution_count": null,
   "id": "42e33c7d",
   "metadata": {},
   "outputs": [],
   "source": [
    "list = [\"Saturday\", \"Sunday\", \"Monday\", \"Thuesday\", \"Wednessday\", \"tursday\", \"Friday\"]\n",
    "\n",
    "temp = int(input())\n",
    "humi = int(input())\n",
    "inc += 10\n",
    "for i >= 50 += inc :\n",
    "    i += 1\n",
    "\n",
    "if humi <= 50:\n",
    "        temp\n",
    "else:\n",
    "    res = temp + i\n",
    "    print(res )\n",
    "print(list[])"
   ]
  },
  {
   "cell_type": "code",
   "execution_count": null,
   "id": "986d4bff",
   "metadata": {},
   "outputs": [],
   "source": [
    "feq = int(input(\"Enter num\"))\n",
    "for feq in range()"
   ]
  },
  {
   "cell_type": "code",
   "execution_count": null,
   "id": "2f561ad3",
   "metadata": {},
   "outputs": [],
   "source": []
  },
  {
   "cell_type": "code",
   "execution_count": null,
   "id": "0ee0efcf",
   "metadata": {},
   "outputs": [],
   "source": []
  }
 ],
 "metadata": {
  "kernelspec": {
   "display_name": "Python 3 (ipykernel)",
   "language": "python",
   "name": "python3"
  },
  "language_info": {
   "codemirror_mode": {
    "name": "ipython",
    "version": 3
   },
   "file_extension": ".py",
   "mimetype": "text/x-python",
   "name": "python",
   "nbconvert_exporter": "python",
   "pygments_lexer": "ipython3",
   "version": "3.9.12"
  }
 },
 "nbformat": 4,
 "nbformat_minor": 5
}
