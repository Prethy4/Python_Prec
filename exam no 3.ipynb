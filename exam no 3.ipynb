{
 "cells": [
  {
   "cell_type": "code",
   "execution_count": 4,
   "id": "cb8d5233",
   "metadata": {},
   "outputs": [
    {
     "name": "stdout",
     "output_type": "stream",
     "text": [
      "n: 4\n",
      "[[0.37962652 0.08978669 0.10623179 0.56057901]\n",
      " [0.63083573 0.61789111 0.22272682 0.04800246]\n",
      " [0.57933491 0.68902958 0.35558687 0.29086927]\n",
      " [0.86199719 0.40022548 0.40726713 0.52241672]]\n",
      "Norm:  1.9164575574687015\n",
      "Trace:  2.0896668808174415\n"
     ]
    }
   ],
   "source": [
 
    "import numpy as np\n",
    "n=int(input(\"n: \"))\n",
    "matrix= np.random.rand(n,n)\n",
    "print(matrix)\n",
    "\n",
    "sum=0\n",
    "for i in range(n):\n",
    "    for j in range(n):\n",
    "        sum+=(matrix[i][j]*matrix[i][j])\n",
    "norm = np.sqrt(sum)\n",
    "print(\"Norm: \",norm)\n",
    "\n",
    "sum2=0\n",
    "for x in range(n):\n",
    "    sum2+=matrix[i][i]\n",
    "print(\"Trace: \", sum2)\n"
   ]
  },
  {
   "cell_type": "code",
   "execution_count": null,
   "id": "8e70ff41",
   "metadata": {},
   "outputs": [],
   "source": []
  },
  {
   "cell_type": "code",
   "execution_count": null,
   "id": "b552a609",
   "metadata": {},
   "outputs": [],
   "source": []
  },
  {
   "cell_type": "code",
   "execution_count": null,
   "id": "50a91475",
   "metadata": {},
   "outputs": [],
   "source": []
  }
 ],
 "metadata": {
  "kernelspec": {
   "display_name": "Python 3 (ipykernel)",
   "language": "python",
   "name": "python3"
  },
  "language_info": {
   "codemirror_mode": {
    "name": "ipython",
    "version": 3
   },
   "file_extension": ".py",
   "mimetype": "text/x-python",
   "name": "python",
   "nbconvert_exporter": "python",
   "pygments_lexer": "ipython3",
   "version": "3.9.12"
  }
 },
 "nbformat": 4,
 "nbformat_minor": 5
}
